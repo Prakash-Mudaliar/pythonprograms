{
 "cells": [
  {
   "cell_type": "code",
   "execution_count": null,
   "id": "91b763d8-dffc-4e31-b471-deea197fb540",
   "metadata": {},
   "outputs": [],
   "source": [
    "#TOPIC: Python Basics Variable\n",
    "\n",
    "# Declare two variables, `x` and `y`, and assign them integer values. Swap the values of these variables without using any temporary variable."
   ]
  },
  {
   "cell_type": "code",
   "execution_count": null,
   "id": "4ae71203-12dd-4359-bda0-931cf6972a06",
   "metadata": {},
   "outputs": [],
   "source": [
    "x=10\n",
    "y=20\n",
    "x,y = y,x"
   ]
  },
  {
   "cell_type": "code",
   "execution_count": 3,
   "id": "5631b2e8-9077-4961-ba96-b135497fc671",
   "metadata": {},
   "outputs": [
    {
     "data": {
      "text/plain": [
       "(20, 10)"
      ]
     },
     "execution_count": 3,
     "metadata": {},
     "output_type": "execute_result"
    }
   ],
   "source": [
    "x,y"
   ]
  },
  {
   "cell_type": "code",
   "execution_count": 4,
   "id": "3014776f-bb30-4ad1-8795-783478ce8ab1",
   "metadata": {},
   "outputs": [],
   "source": [
    "# Create a program that calculates the area of a rectangle. Take the length and width as inputs from the user and store them in variables. Calculate and display the area."
   ]
  },
  {
   "cell_type": "code",
   "execution_count": 1,
   "id": "39c5c165-edbb-4ad0-979a-d2ec904daead",
   "metadata": {},
   "outputs": [
    {
     "name": "stdin",
     "output_type": "stream",
     "text": [
      " 4\n"
     ]
    }
   ],
   "source": [
    "l=int(input())"
   ]
  },
  {
   "cell_type": "code",
   "execution_count": 2,
   "id": "7c16b0d6-544a-4d99-b884-2f1358c0d2e9",
   "metadata": {},
   "outputs": [
    {
     "data": {
      "text/plain": [
       "int"
      ]
     },
     "execution_count": 2,
     "metadata": {},
     "output_type": "execute_result"
    }
   ],
   "source": [
    "type(l)"
   ]
  },
  {
   "cell_type": "code",
   "execution_count": 3,
   "id": "931ffbc1-03db-47b6-86cf-7c44ba1645d1",
   "metadata": {},
   "outputs": [
    {
     "name": "stdin",
     "output_type": "stream",
     "text": [
      " 5\n"
     ]
    }
   ],
   "source": [
    "w=int(input())"
   ]
  },
  {
   "cell_type": "code",
   "execution_count": 4,
   "id": "4028ec45-b6dd-44b1-b603-3a60bcc8fcd4",
   "metadata": {},
   "outputs": [
    {
     "data": {
      "text/plain": [
       "int"
      ]
     },
     "execution_count": 4,
     "metadata": {},
     "output_type": "execute_result"
    }
   ],
   "source": [
    "type(w)"
   ]
  },
  {
   "cell_type": "code",
   "execution_count": 5,
   "id": "479f82cb-3f9e-4605-8582-80f18530e058",
   "metadata": {},
   "outputs": [],
   "source": [
    "area=l*w"
   ]
  },
  {
   "cell_type": "code",
   "execution_count": 6,
   "id": "5845d764-6451-4ef9-8672-11fa1381d577",
   "metadata": {},
   "outputs": [
    {
     "data": {
      "text/plain": [
       "20"
      ]
     },
     "execution_count": 6,
     "metadata": {},
     "output_type": "execute_result"
    }
   ],
   "source": [
    "area"
   ]
  },
  {
   "cell_type": "code",
   "execution_count": 9,
   "id": "db71841a-2275-4d7b-b05d-9ac4ad03278d",
   "metadata": {},
   "outputs": [],
   "source": [
    "#Write a Python program that converts temperatures from Celsius to\n",
    "#Fahrenheit. Take the temperature in Celsius as input, store it in a variable,\n",
    "#convert it to Fahrenheit, and display the result."
   ]
  },
  {
   "cell_type": "code",
   "execution_count": 10,
   "id": "f7e92704-8ca6-4f35-aac0-e8447bb71c06",
   "metadata": {},
   "outputs": [
    {
     "name": "stdin",
     "output_type": "stream",
     "text": [
      " 25\n"
     ]
    }
   ],
   "source": [
    "celsius=int(input())"
   ]
  },
  {
   "cell_type": "code",
   "execution_count": 11,
   "id": "b4dd2320-e09d-441e-9678-52346b43e12a",
   "metadata": {},
   "outputs": [],
   "source": [
    "Fah=(celsius*1.8)+32"
   ]
  },
  {
   "cell_type": "code",
   "execution_count": 12,
   "id": "5359c795-5954-4c31-90ae-47b8de8470fb",
   "metadata": {},
   "outputs": [
    {
     "data": {
      "text/plain": [
       "77.0"
      ]
     },
     "execution_count": 12,
     "metadata": {},
     "output_type": "execute_result"
    }
   ],
   "source": [
    "Fah"
   ]
  },
  {
   "cell_type": "code",
   "execution_count": 13,
   "id": "1fe27c53-95a5-45a6-b7ad-9452edf517e9",
   "metadata": {},
   "outputs": [],
   "source": [
    "#TOPIC: String Based Questions"
   ]
  },
  {
   "cell_type": "code",
   "execution_count": 14,
   "id": "a095d361-db74-4423-8fc4-19abb627d561",
   "metadata": {},
   "outputs": [],
   "source": [
    "#1. Write a Python program that takes a string as input and prints the length of the string."
   ]
  },
  {
   "cell_type": "code",
   "execution_count": 15,
   "id": "03392ad2-db4a-4c1d-8cc2-73694622c32b",
   "metadata": {},
   "outputs": [
    {
     "name": "stdin",
     "output_type": "stream",
     "text": [
      " This is my first python program\n"
     ]
    }
   ],
   "source": [
    "pk=input()"
   ]
  },
  {
   "cell_type": "code",
   "execution_count": 16,
   "id": "9bd369f5-e64b-4c5e-af3a-74e6bd0a0b18",
   "metadata": {},
   "outputs": [
    {
     "data": {
      "text/plain": [
       "31"
      ]
     },
     "execution_count": 16,
     "metadata": {},
     "output_type": "execute_result"
    }
   ],
   "source": [
    "len(pk)"
   ]
  },
  {
   "cell_type": "code",
   "execution_count": 17,
   "id": "15b203ef-4102-46d6-91fd-664e8e7bb386",
   "metadata": {},
   "outputs": [],
   "source": [
    "#Create a program that takes a sentence from the user and counts the number of vowels (a, e, i, o, u) in the string."
   ]
  },
  {
   "cell_type": "code",
   "execution_count": 2,
   "id": "46ffeb4d-0066-4162-8327-23a3306231fc",
   "metadata": {},
   "outputs": [
    {
     "name": "stdin",
     "output_type": "stream",
     "text": [
      " This is my program\n"
     ]
    }
   ],
   "source": [
    "s=input()"
   ]
  },
  {
   "cell_type": "code",
   "execution_count": 5,
   "id": "a002db7c-cb5e-41fc-a19b-87a6ed939210",
   "metadata": {},
   "outputs": [],
   "source": [
    "v=\"aeiouAEIOU\""
   ]
  },
  {
   "cell_type": "code",
   "execution_count": 6,
   "id": "6bcd0d9b-0d39-472b-8104-ec4cc338f1c5",
   "metadata": {},
   "outputs": [],
   "source": [
    "count=sum(s.count(vowel) for vowel in v)"
   ]
  },
  {
   "cell_type": "code",
   "execution_count": 7,
   "id": "4fa719f0-ff3f-42a4-b090-d3caa599b266",
   "metadata": {},
   "outputs": [
    {
     "data": {
      "text/plain": [
       "4"
      ]
     },
     "execution_count": 7,
     "metadata": {},
     "output_type": "execute_result"
    }
   ],
   "source": [
    "count"
   ]
  },
  {
   "cell_type": "code",
   "execution_count": 8,
   "id": "62336bb4-a6b9-4156-991f-294313ae4a2e",
   "metadata": {},
   "outputs": [],
   "source": [
    "# 3. Given a string, reverse the order of characters using string slicing and print the reversed string."
   ]
  },
  {
   "cell_type": "code",
   "execution_count": 9,
   "id": "82830dea-476f-47e0-91d3-05af744cd2cb",
   "metadata": {},
   "outputs": [],
   "source": [
    "d1=\"Anchors\""
   ]
  },
  {
   "cell_type": "code",
   "execution_count": 10,
   "id": "03907c32-7e0c-4a9d-b719-ce8b43bfcdc5",
   "metadata": {},
   "outputs": [
    {
     "data": {
      "text/plain": [
       "'srohcnA'"
      ]
     },
     "execution_count": 10,
     "metadata": {},
     "output_type": "execute_result"
    }
   ],
   "source": [
    "d1[::-1]"
   ]
  },
  {
   "cell_type": "code",
   "execution_count": 11,
   "id": "9146119e-9154-465c-ab51-b28942cb4872",
   "metadata": {},
   "outputs": [],
   "source": [
    "# Write a program that takes a string as input and checks if it is a palindrome (reads the same forwards and backwards)."
   ]
  },
  {
   "cell_type": "code",
   "execution_count": 18,
   "id": "b0d66f9a-b6cf-4b1e-b7e5-657a7a4d81b8",
   "metadata": {},
   "outputs": [
    {
     "name": "stdin",
     "output_type": "stream",
     "text": [
      " saas\n"
     ]
    }
   ],
   "source": [
    "s1 = input()"
   ]
  },
  {
   "cell_type": "code",
   "execution_count": 19,
   "id": "4947031d-4229-4290-9bb7-f79f732e4177",
   "metadata": {},
   "outputs": [],
   "source": [
    "s2=s1[::-1]"
   ]
  },
  {
   "cell_type": "code",
   "execution_count": 20,
   "id": "d6df2562-5358-41d5-9d84-2bcbd70492fa",
   "metadata": {},
   "outputs": [
    {
     "data": {
      "text/plain": [
       "True"
      ]
     },
     "execution_count": 20,
     "metadata": {},
     "output_type": "execute_result"
    }
   ],
   "source": [
    "s2==s1"
   ]
  },
  {
   "cell_type": "code",
   "execution_count": 21,
   "id": "c898d39f-408c-49ae-bda8-439833f3b749",
   "metadata": {},
   "outputs": [],
   "source": [
    "#Create a program that takes a string as input and removes all the spaces from it. Print the modified string without spaces."
   ]
  },
  {
   "cell_type": "code",
   "execution_count": 31,
   "id": "2d091151-1899-4a77-af4b-e6af556744cf",
   "metadata": {},
   "outputs": [
    {
     "name": "stdin",
     "output_type": "stream",
     "text": [
      "        I am good   \n"
     ]
    }
   ],
   "source": [
    "w = input()"
   ]
  },
  {
   "cell_type": "code",
   "execution_count": 32,
   "id": "814ef37d-81bd-4959-a012-5346ad08f689",
   "metadata": {},
   "outputs": [
    {
     "data": {
      "text/plain": [
       "'I am good'"
      ]
     },
     "execution_count": 32,
     "metadata": {},
     "output_type": "execute_result"
    }
   ],
   "source": [
    "w.strip()"
   ]
  },
  {
   "cell_type": "code",
   "execution_count": null,
   "id": "a73da674-cc51-448c-90d2-02b8437bb645",
   "metadata": {},
   "outputs": [],
   "source": []
  },
  {
   "cell_type": "code",
   "execution_count": null,
   "id": "0abe1dce-0f37-4c48-9389-e01c29c556b7",
   "metadata": {},
   "outputs": [],
   "source": []
  }
 ],
 "metadata": {
  "kernelspec": {
   "display_name": "Python 3 (ipykernel)",
   "language": "python",
   "name": "python3"
  },
  "language_info": {
   "codemirror_mode": {
    "name": "ipython",
    "version": 3
   },
   "file_extension": ".py",
   "mimetype": "text/x-python",
   "name": "python",
   "nbconvert_exporter": "python",
   "pygments_lexer": "ipython3",
   "version": "3.10.8"
  }
 },
 "nbformat": 4,
 "nbformat_minor": 5
}
